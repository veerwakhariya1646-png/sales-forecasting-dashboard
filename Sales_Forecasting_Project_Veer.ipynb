{
 "cells": [
  {
   "cell_type": "markdown",
   "id": "a36e1ba7",
   "metadata": {},
   "source": [
    "# Sales Forecasting Project\n",
    "**Project by Veer Wakhariya**"
   ]
  },
  {
   "cell_type": "markdown",
   "id": "3f4ebc91",
   "metadata": {},
   "source": [
    "# Retail Sales Forecasting (Weekly)\n",
    "\n",
    "This notebook performs EDA and a 12-week forecast using Holt-Winters (Exponential Smoothing)."
   ]
  },
  {
   "cell_type": "code",
   "execution_count": null,
   "id": "94326659",
   "metadata": {},
   "outputs": [],
   "source": [
    "import pandas as pd, matplotlib.pyplot as plt\n",
    "weekly_total = pd.read_csv('weekly_aggregations.csv', parse_dates=['date'])\n",
    "weekly_total.head()"
   ]
  },
  {
   "cell_type": "code",
   "execution_count": null,
   "id": "f1f28519",
   "metadata": {},
   "outputs": [],
   "source": [
    "# Plot weekly sales and rolling mean\n",
    "plt.figure(figsize=(10,5))\n",
    "plt.plot(weekly_total['date'], weekly_total['sales'], label='Weekly Sales')\n",
    "plt.plot(weekly_total['date'], weekly_total['rolling_8w'], label='8-week Rolling Mean')\n",
    "plt.title('Weekly Sales & Trend'); plt.xlabel('Week'); plt.ylabel('Sales'); plt.legend(); plt.tight_layout(); plt.show()"
   ]
  },
  {
   "cell_type": "code",
   "execution_count": null,
   "id": "a11f0b78",
   "metadata": {},
   "outputs": [],
   "source": [
    "from statsmodels.tsa.holtwinters import ExponentialSmoothing\n",
    "ts = weekly_total.set_index('date')['sales'].asfreq('W-SUN')\n",
    "model = ExponentialSmoothing(ts, trend='add', seasonal='add', seasonal_periods=52, initialization_method='estimated')\n",
    "fit = model.fit()\n",
    "pred = fit.forecast(12)\n",
    "import numpy as np\n",
    "conf_int = 1.96*np.std(fit.resid, ddof=1)\n",
    "f_index = pd.date_range(ts.index[-1]+pd.Timedelta(weeks=1), periods=12, freq='W-SUN')\n",
    "forecast_df = pd.DataFrame({'date': f_index, 'forecast': pred.values,\n",
    "                            'lower_ci': pred.values-conf_int,\n",
    "                            'upper_ci': pred.values+conf_int})\n",
    "forecast_df.head()"
   ]
  },
  {
   "cell_type": "code",
   "execution_count": null,
   "id": "8b12d6fe",
   "metadata": {},
   "outputs": [],
   "source": [
    "# Plot actual vs forecast\n",
    "plt.figure(figsize=(10,5))\n",
    "start = ts.index[-60] if len(ts)>60 else ts.index[0]\n",
    "plt.plot(ts.loc[start:], label='Actual')\n",
    "plt.plot(f_index, pred.values, label='Forecast')\n",
    "plt.fill_between(f_index, pred.values-conf_int, pred.values+conf_int, alpha=0.2, label='95% CI')\n",
    "plt.title('Actual vs Forecast (Next 12 Weeks)'); plt.xlabel('Week'); plt.ylabel('Sales'); plt.legend(); plt.tight_layout(); plt.show()"
   ]
  },
  {
   "cell_type": "code",
   "execution_count": null,
   "id": "608f24eb",
   "metadata": {},
   "outputs": [],
   "source": [
    "weekly_total.to_csv('weekly_aggregations.csv', index=False)\n",
    "forecast_df.to_csv('weekly_forecast_12w.csv', index=False)\n",
    "print('Saved weekly_aggregations.csv and weekly_forecast_12w.csv')"
   ]
  }
 ],
 "metadata": {},
 "nbformat": 4,
 "nbformat_minor": 5
}
